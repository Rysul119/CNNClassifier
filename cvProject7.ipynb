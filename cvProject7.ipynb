{
  "nbformat": 4,
  "nbformat_minor": 0,
  "metadata": {
    "colab": {
      "name": "cvProject7.ipynb",
      "provenance": [],
      "collapsed_sections": [],
      "toc_visible": true
    },
    "kernelspec": {
      "name": "python3",
      "display_name": "Python 3"
    },
    "language_info": {
      "name": "python"
    }
  },
  "cells": [
    {
      "cell_type": "code",
      "metadata": {
        "id": "x7QSw9dwGUUD"
      },
      "source": [
        "#import dependencies\n",
        "import keras\n",
        "from tensorflow.keras.models import Sequential\n",
        "from keras.utils import np_utils\n",
        "from tensorflow.keras.preprocessing.image import ImageDataGenerator\n",
        "from tensorflow.keras.layers import Dense, Activation, Flatten, Dropout, BatchNormalization\n",
        "from tensorflow.keras.layers import Conv2D, MaxPooling2D\n",
        "from tensorflow.keras.datasets import cifar10\n",
        "from tensorflow.keras import regularizers, optimizers\n",
        "import numpy as np\n",
        "import cv2 as cv\n",
        "from matplotlib import pyplot"
      ],
      "execution_count": 2,
      "outputs": []
    },
    {
      "cell_type": "code",
      "metadata": {
        "colab": {
          "base_uri": "https://localhost:8080/"
        },
        "id": "v51FzKxCGX-S",
        "outputId": "98ac4527-efe0-4af5-ba1e-70ef3422ffd2"
      },
      "source": [
        "# download and split the data\n",
        "(x_train, y_train), (x_test, y_test) = cifar10.load_data()\n",
        "x_train = x_train.astype('float32')\n",
        "x_test = x_test.astype('float32')\n",
        "\n",
        "print(\"training data = \", x_train.shape)\n",
        "print(\"testing data = \", x_test.shape)"
      ],
      "execution_count": 3,
      "outputs": [
        {
          "output_type": "stream",
          "text": [
            "training data =  (50000, 32, 32, 3)\n",
            "testing data =  (10000, 32, 32, 3)\n"
          ],
          "name": "stdout"
        }
      ]
    },
    {
      "cell_type": "code",
      "metadata": {
        "id": "OpiDy7uPGawL"
      },
      "source": [
        "# Normalize the data to speed up training\n",
        "mean = np.mean(x_train)\n",
        "std = np.std(x_train)\n",
        "x_train = (x_train-mean)/(std+1e-7)\n",
        "x_test = (x_test-mean)/(std+1e-7)\n"
      ],
      "execution_count": 4,
      "outputs": []
    },
    {
      "cell_type": "code",
      "metadata": {
        "colab": {
          "base_uri": "https://localhost:8080/"
        },
        "id": "K90L86WZHeAs",
        "outputId": "ce52945e-51bb-4331-b954-ab2f48794808"
      },
      "source": [
        "mean, std"
      ],
      "execution_count": 5,
      "outputs": [
        {
          "output_type": "execute_result",
          "data": {
            "text/plain": [
              "(120.70748, 64.150024)"
            ]
          },
          "metadata": {
            "tags": []
          },
          "execution_count": 5
        }
      ]
    },
    {
      "cell_type": "code",
      "metadata": {
        "id": "2igBqdtrGe9n"
      },
      "source": [
        "def buildModel():\n",
        "    # build the model\n",
        "    \n",
        "    # number of hidden units variable \n",
        "    # we are declaring this variable here and use it in our CONV layers to make it easier to update from one place\n",
        "    base_hidden_units = 64 # changed from 32 to 64\n",
        "    \n",
        "    # l2 regularization hyperparameter\n",
        "    weight_decay = 1e-4 \n",
        "    num_classes = 10\n",
        "    \n",
        "    # instantiate an empty sequential model \n",
        "    model = Sequential()\n",
        "    \n",
        "    # CONV1\n",
        "    # notice that we defined the input_shape here because this is the first CONV layer. \n",
        "    # we don’t need to do that for the remaining layers\n",
        "    model.add(Conv2D(base_hidden_units, (3,3), padding='same', kernel_regularizer=regularizers.l2(weight_decay), input_shape=(32, 32, 3)))\n",
        "    model.add(Activation('relu'))\n",
        "    model.add(BatchNormalization())\n",
        "    \n",
        "    # CONV2\n",
        "    model.add(Conv2D(base_hidden_units, (3,3), padding='same', kernel_regularizer=regularizers.l2(weight_decay)))\n",
        "    model.add(Activation('relu'))\n",
        "    model.add(BatchNormalization())\n",
        "    model.add(MaxPooling2D(pool_size=(2,2)))\n",
        "    model.add(Dropout(0.2))\n",
        "    \n",
        "    # CONV3\n",
        "    model.add(Conv2D(2*base_hidden_units, (3,3), padding='same', kernel_regularizer=regularizers.l2(weight_decay)))\n",
        "    model.add(Activation('relu'))\n",
        "    model.add(BatchNormalization())\n",
        "    \n",
        "    # CONV4\n",
        "    model.add(Conv2D(2*base_hidden_units, (3,3), padding='same', kernel_regularizer=regularizers.l2(weight_decay)))\n",
        "    model.add(Activation('relu'))\n",
        "    model.add(BatchNormalization())\n",
        "    model.add(MaxPooling2D(pool_size=(2,2)))\n",
        "    model.add(Dropout(0.3))\n",
        "    \n",
        "    # CONV5\n",
        "    model.add(Conv2D(4*base_hidden_units, (3,3), padding='same', kernel_regularizer=regularizers.l2(weight_decay)))\n",
        "    model.add(Activation('relu'))\n",
        "    model.add(BatchNormalization())\n",
        "    \n",
        "    # CONV6\n",
        "    model.add(Conv2D(4*base_hidden_units, (3,3), padding='same', kernel_regularizer=regularizers.l2(weight_decay)))\n",
        "    model.add(Activation('relu'))\n",
        "    model.add(BatchNormalization())\n",
        "    model.add(MaxPooling2D(pool_size=(2,2)))\n",
        "    model.add(Dropout(0.4))\n",
        "    \n",
        "    # FC7\n",
        "    model.add(Flatten())\n",
        "    model.add(Dense(num_classes, activation='softmax'))\n",
        "    \n",
        "    # print model summary\n",
        "    #model.summary()\n",
        "    model.load_weights('model.125epochs.hln64bs256.hdf5')\n",
        "\n",
        "    return model\n",
        "\n",
        "\n",
        "cnnModel = buildModel()"
      ],
      "execution_count": 6,
      "outputs": []
    },
    {
      "cell_type": "code",
      "metadata": {
        "id": "1Fo-Bi1pG3md"
      },
      "source": [
        "def createPyramid(image, levels):\n",
        "    '''\n",
        "    creates an image pyramid for given number of levels\n",
        "    '''\n",
        "    gaussPyr = [image]\n",
        "    \n",
        "    for i in range(levels-1):\n",
        "        image = cv.pyrDown(image)\n",
        "        gaussPyr.append(image)\n",
        "        \n",
        "    return gaussPyr"
      ],
      "execution_count": 7,
      "outputs": []
    },
    {
      "cell_type": "code",
      "metadata": {
        "id": "Vv3zei13HBtN"
      },
      "source": [
        "labelNames = ['airplane', 'automobile', 'bird', 'cat', 'deer', 'dog', 'frog', 'horse', 'ship', 'truck']"
      ],
      "execution_count": 8,
      "outputs": []
    },
    {
      "cell_type": "code",
      "metadata": {
        "colab": {
          "base_uri": "https://localhost:8080/"
        },
        "id": "8X4wiU9XHD8N",
        "outputId": "69ac8df6-dfb8-44c0-f099-7ca9291d7b72"
      },
      "source": [
        "imageFiles = ['carw.png', 'deerw.png', 'deer.jpg', 'frogw.png', 'planew.png', 'shipw.png']\n",
        "for imgName in imageFiles:\n",
        "  # reading the image\n",
        "  img = cv.imread(imgName)\n",
        "  print(\"Shape of the original imgae: {}\".format(img.shape))\n",
        "  img = cv.cvtColor(img, cv.COLOR_BGR2RGB)\n",
        "  # resize the image to 256x256\n",
        "  imgResized = cv.resize(img, (256,256), interpolation = cv.INTER_AREA)\n",
        "  print(\"Shape of the resized image: {}\".format(imgResized.shape))\n",
        "  pyramid = createPyramid(imgResized, 4) # calling 4 levels\n",
        "  print(\"Shape of the lowest pyramid image: {}\".format(pyramid[3].shape))\n",
        "  # adding a new axis on pyramid[3]\n",
        "  evalImage = pyramid[3][np.newaxis,:,:,:]\n",
        "  cv.imwrite(imgName.split('.')[0]+'pyr.jpg', evalImage)\n",
        "  print(\"Shape of the image being evaluated {}\".format(evalImage.shape))\n",
        "  evalImage = (evalImage-mean)/(std+1e-7)\n",
        "\n",
        "  # prediction\n",
        "  pred = cnnModel.predict(evalImage)\n",
        "  np.set_printoptions(formatter={'float': lambda x: \"{0:0.2f}\".format(x)})\n",
        "  print(\"The probablities: {}\".format(pred))\n",
        "  print(\"Predicted class: {}\\n\".format(labelNames[pred.argmax()]))"
      ],
      "execution_count": 10,
      "outputs": [
        {
          "output_type": "stream",
          "text": [
            "Shape of the original imgae: (720, 1280, 3)\n",
            "Shape of the resized image: (256, 256, 3)\n",
            "Shape of the lowest pyramid image: (32, 32, 3)\n",
            "Shape of the image being evaluated (1, 32, 32, 3)\n",
            "The probablities: [[0.00 0.92 0.00 0.00 0.00 0.00 0.00 0.00 0.00 0.07]]\n",
            "Predicted class: automobile\n",
            "\n",
            "Shape of the original imgae: (720, 1280, 3)\n",
            "Shape of the resized image: (256, 256, 3)\n",
            "Shape of the lowest pyramid image: (32, 32, 3)\n",
            "Shape of the image being evaluated (1, 32, 32, 3)\n",
            "The probablities: [[0.01 0.05 0.00 0.01 0.00 0.00 0.00 0.00 0.00 0.94]]\n",
            "Predicted class: truck\n",
            "\n",
            "Shape of the original imgae: (330, 750, 3)\n",
            "Shape of the resized image: (256, 256, 3)\n",
            "Shape of the lowest pyramid image: (32, 32, 3)\n",
            "Shape of the image being evaluated (1, 32, 32, 3)\n",
            "The probablities: [[0.00 0.00 0.02 0.13 0.77 0.04 0.00 0.03 0.00 0.00]]\n",
            "Predicted class: deer\n",
            "\n",
            "Shape of the original imgae: (720, 1280, 3)\n",
            "Shape of the resized image: (256, 256, 3)\n",
            "Shape of the lowest pyramid image: (32, 32, 3)\n",
            "Shape of the image being evaluated (1, 32, 32, 3)\n",
            "The probablities: [[0.01 0.00 0.01 0.98 0.00 0.00 0.00 0.00 0.00 0.00]]\n",
            "Predicted class: cat\n",
            "\n",
            "Shape of the original imgae: (720, 1280, 3)\n",
            "Shape of the resized image: (256, 256, 3)\n",
            "Shape of the lowest pyramid image: (32, 32, 3)\n",
            "Shape of the image being evaluated (1, 32, 32, 3)\n",
            "The probablities: [[0.65 0.34 0.00 0.00 0.00 0.00 0.00 0.00 0.00 0.01]]\n",
            "Predicted class: airplane\n",
            "\n",
            "Shape of the original imgae: (720, 1280, 3)\n",
            "Shape of the resized image: (256, 256, 3)\n",
            "Shape of the lowest pyramid image: (32, 32, 3)\n",
            "Shape of the image being evaluated (1, 32, 32, 3)\n",
            "The probablities: [[0.01 0.00 0.00 0.00 0.00 0.00 0.00 0.00 0.99 0.00]]\n",
            "Predicted class: ship\n",
            "\n"
          ],
          "name": "stdout"
        }
      ]
    }
  ]
}